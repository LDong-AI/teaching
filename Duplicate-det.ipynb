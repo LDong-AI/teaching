{
 "cells": [
  {
   "cell_type": "markdown",
   "id": "3d5a86fa",
   "metadata": {},
   "source": [
    "# 1. 完全重复数据（Exact Duplicates）"
   ]
  },
  {
   "cell_type": "code",
   "execution_count": 1,
   "id": "9e36907f",
   "metadata": {},
   "outputs": [
    {
     "name": "stdout",
     "output_type": "stream",
     "text": [
      "原始数据：\n",
      "     ID     Name  Age  Income\n",
      "0  101    Alice   25    5000\n",
      "1  102      Bob   30    7000\n",
      "2  103  Charlie   35    8000\n",
      "3  103  Charlie   35    8000\n",
      "4  104    David   40    6500\n",
      "5  106    David   40    6500\n",
      "\n",
      "检测到的完全重复行：\n",
      "     ID     Name  Age  Income\n",
      "2  103  Charlie   35    8000\n",
      "3  103  Charlie   35    8000\n",
      "\n",
      "删除完全重复行后的数据：\n",
      "     ID     Name  Age  Income\n",
      "0  101    Alice   25    5000\n",
      "1  102      Bob   30    7000\n",
      "2  103  Charlie   35    8000\n",
      "4  104    David   40    6500\n",
      "5  106    David   40    6500\n"
     ]
    }
   ],
   "source": [
    "import pandas as pd\n",
    "\n",
    "# 创建数据集（完全重复行）\n",
    "df = pd.DataFrame({\n",
    "    \"ID\": [101, 102, 103, 103, 104, 106],\n",
    "    \"Name\": [\"Alice\", \"Bob\", \"Charlie\", \"Charlie\", \"David\", \"David\"],\n",
    "    \"Age\": [25, 30, 35, 35, 40, 40],\n",
    "    \"Income\": [5000, 7000, 8000, 8000, 6500, 6500]\n",
    "})\n",
    "\n",
    "print(\"原始数据：\\n\", df)\n",
    "\n",
    "# 检测完全重复行\n",
    "duplicates = df[df.duplicated(keep=False)]\n",
    "print(\"\\n检测到的完全重复行：\\n\", duplicates)\n",
    "\n",
    "# 删除完全重复行（保留第一行）\n",
    "df_no_duplicates = df.drop_duplicates(keep='first')\n",
    "print(\"\\n删除完全重复行后的数据：\\n\", df_no_duplicates)\n"
   ]
  },
  {
   "cell_type": "markdown",
   "id": "6c4e7e35",
   "metadata": {},
   "source": [
    "# 2. 部分列重复数据（Partial Duplicates）"
   ]
  },
  {
   "cell_type": "code",
   "execution_count": 9,
   "id": "7dfeae62",
   "metadata": {},
   "outputs": [
    {
     "name": "stdout",
     "output_type": "stream",
     "text": [
      "原始数据：\n",
      "     ID     Name  Age  Income\n",
      "0  101    Alice   25    5000\n",
      "1  102      Bob   30    7000\n",
      "2  103  Charlie   35    8000\n",
      "3  103  Charlie   35    8200\n",
      "4  104    David   40    6500\n",
      "5  104    David   42    6700\n",
      "\n",
      "根据 ID 去重后的数据：\n",
      "     ID     Name  Age  Income\n",
      "0  101    Alice   25    5000\n",
      "1  102      Bob   30    7000\n",
      "2  103  Charlie   35    8000\n",
      "4  104    David   40    6500\n",
      "\n",
      "根据 ID 聚合后的数据：\n",
      "     ID   Age  Income\n",
      "0  101  25.0  5000.0\n",
      "1  102  30.0  7000.0\n",
      "2  103  35.0  8100.0\n",
      "3  104  41.0  6600.0\n"
     ]
    }
   ],
   "source": [
    "# 创建数据集（部分列重复）\n",
    "df = pd.DataFrame({\n",
    "    \"ID\": [101, 102, 103, 103, 104, 104],\n",
    "    \"Name\": [\"Alice\", \"Bob\", \"Charlie\", \"Charlie\", \"David\", \"David\"],\n",
    "    \"Age\": [25, 30, 35, 35, 40, 42],  # 年龄不同\n",
    "    \"Income\": [5000, 7000, 8000, 8200, 6500, 6700]  # 收入不同\n",
    "})\n",
    "\n",
    "print(\"原始数据：\\n\", df)\n",
    "\n",
    "# 根据 ID 去重（保留第一次出现的行）\n",
    "df_unique_id = df.drop_duplicates(subset=[\"ID\"], keep='first')\n",
    "print(\"\\n根据 ID 去重后的数据：\\n\", df_unique_id)\n",
    "\n",
    "# 根据 ID 聚合收入（取均值）\n",
    "df_aggregated = df.groupby(\"ID\", as_index=False).agg({\n",
    "    \"Age\": \"mean\",  # 平均年龄\n",
    "    \"Income\": \"mean\"  # 平均收入\n",
    "})\n",
    "print(\"\\n根据 ID 聚合后的数据：\\n\", df_aggregated)\n"
   ]
  },
  {
   "cell_type": "markdown",
   "id": "807f42f1",
   "metadata": {},
   "source": [
    "# 3. 数据录入误差（Near Duplicates）"
   ]
  },
  {
   "cell_type": "code",
   "execution_count": 10,
   "id": "3c44b145",
   "metadata": {},
   "outputs": [
    {
     "name": "stdout",
     "output_type": "stream",
     "text": [
      "原始数据：\n",
      "     ID     Name  Income\n",
      "0  101    Alice    5000\n",
      "1  102      bob    7000\n",
      "2  103  Charlie    8000\n",
      "3  104    DAVID    6500\n",
      "4  105      Eva    7200\n",
      "\n",
      "清洗后的数据：\n",
      "     ID     Name  Income\n",
      "0  101    Alice    5000\n",
      "1  102      Bob    7000\n",
      "2  103  Charlie    8000\n",
      "3  104    David    6500\n",
      "4  105      Eva    7200\n"
     ]
    }
   ],
   "source": [
    "# 创建数据集（录入误差）\n",
    "df = pd.DataFrame({\n",
    "    \"ID\": [101, 102, 103, 104, 105],\n",
    "    \"Name\": [\" Alice\", \"bob\", \"Charlie\", \"DAVID\", \"Eva\"],\n",
    "    \"Income\": [5000, 7000, 8000, 6500, 7200]\n",
    "})\n",
    "\n",
    "print(\"原始数据：\\n\", df)\n",
    "\n",
    "# 数据清洗：去除多余空格，统一大小写\n",
    "df[\"Name\"] = df[\"Name\"].str.strip().str.capitalize()\n",
    "print(\"\\n清洗后的数据：\\n\", df)\n"
   ]
  },
  {
   "cell_type": "markdown",
   "id": "28b53616-1355-48d6-b5bc-4c978565d901",
   "metadata": {},
   "source": [
    "# 异常值检测"
   ]
  },
  {
   "cell_type": "code",
   "execution_count": 4,
   "id": "1e18ba2a-9d7e-4f57-acfa-2cac207fc263",
   "metadata": {},
   "outputs": [
    {
     "name": "stdout",
     "output_type": "stream",
     "text": [
      "Empty DataFrame\n",
      "Columns: [Salary]\n",
      "Index: []\n"
     ]
    }
   ],
   "source": [
    "import numpy as np \n",
    "import pandas as pd \n",
    "# 生成示例数据 \n",
    "np.random.seed(42)\n",
    "data = pd.DataFrame({\"Salary\": np.random.normal(5000, 1000, 100)}) \n",
    "# 均值 5000，标准差 1000 \n",
    "# 计算均值和标准差 \n",
    "mean = data[\"Salary\"].mean() \n",
    "std = data[\"Salary\"].std() \n",
    "# 设定异常值范围（均值 ± 3 * 标准差）\n",
    "lower_bound = mean - 3 * std \n",
    "upper_bound = mean + 3 * std\n",
    " # 找出异常值 \n",
    "outliers = data[(data[\"Salary\"] < lower_bound) | (data[\"Salary\"] > upper_bound)]\n",
    "print(outliers) \n"
   ]
  },
  {
   "cell_type": "code",
   "execution_count": 2,
   "id": "e7681e7e-9402-4b12-87b9-9b6378af131c",
   "metadata": {},
   "outputs": [
    {
     "data": {
      "image/png": "[encoded data removed]",
      "text/plain": [
       "<Figure size 432x288 with 1 Axes>"
      ]
     },
     "metadata": {
      "needs_background": "light"
     },
     "output_type": "display_data"
    }
   ],
   "source": [
    "import matplotlib.pyplot as plt\n",
    "import seaborn as sns\n",
    "\n",
    "plt.figure(figsize=(6, 4))\n",
    "sns.boxplot(y=data[\"Salary\"])\n",
    "plt.title(\"Salary Boxplot\")\n",
    "plt.show()\n"
   ]
  },
  {
   "cell_type": "code",
   "execution_count": 9,
   "id": "663c0d6c-01c0-486b-aa71-cf61836ebaa3",
   "metadata": {},
   "outputs": [
    {
     "data": {
      "image/png": "[encoded data removed]",
      "text/plain": [
       "<Figure size 432x288 with 1 Axes>"
      ]
     },
     "metadata": {
      "needs_background": "light"
     },
     "output_type": "display_data"
    }
   ],
   "source": [
    "plt.scatter(range(len(data)), data[\"Salary\"])\n",
    "plt.xlabel(\"Index\")\n",
    "plt.ylabel(\"Salary\")\n",
    "plt.title(\"Salary Scatter Plot\")\n",
    "plt.show()"
   ]
  },
  {
   "cell_type": "markdown",
   "id": "9cc65f8e-a070-41a6-881e-93a0d1ca0e03",
   "metadata": {},
   "source": [
    "# 长尾分布"
   ]
  },
  {
   "cell_type": "code",
   "execution_count": 10,
   "id": "db6da42e-0fc9-4894-80da-3f4b771b298e",
   "metadata": {},
   "outputs": [
    {
     "data": {
      "image/png": "[encoded data removed]",
      "text/plain": [
       "<Figure size 576x288 with 1 Axes>"
      ]
     },
     "metadata": {
      "needs_background": "light"
     },
     "output_type": "display_data"
    }
   ],
   "source": [
    "import numpy as np\n",
    "import matplotlib.pyplot as plt\n",
    "import seaborn as sns\n",
    "# 生成右偏分布数据（长尾分布）\n",
    "np.random.seed(42)\n",
    "income = np.append(np.random.exponential(scale=5000, size=980), [50000, 100000, 200000, 500000, 1000000])\n",
    "# 绘制直方图\n",
    "plt.figure(figsize=(8, 4))\n",
    "sns.histplot(income, bins=50, kde=True)\n",
    "plt.xlabel(\"Income\")\n",
    "plt.ylabel(\"Count\")\n",
    "plt.title(\"Right-Skewed Income Distribution\")\n",
    "plt.show()"
   ]
  },
  {
   "cell_type": "code",
   "execution_count": 11,
   "id": "0d40398e-dd68-4967-befc-a402d317292f",
   "metadata": {},
   "outputs": [
    {
     "data": {
      "image/png": "[encoded data removed]",
      "text/plain": [
       "<Figure size 864x288 with 2 Axes>"
      ]
     },
     "metadata": {
      "needs_background": "light"
     },
     "output_type": "display_data"
    }
   ],
   "source": [
    "# 对数变换\n",
    "log_income = np.log1p(income)  # 使用 log(1 + X) 避免 log(0)\n",
    "# 绘制对比图\n",
    "plt.figure(figsize=(12, 4))\n",
    "plt.subplot(1, 2, 1)\n",
    "sns.histplot(income, bins=50, kde=True)\n",
    "plt.xlabel(\"Income (Original)\")\n",
    "plt.title(\"Original Right-Skewed Distribution\")\n",
    "plt.subplot(1, 2, 2)\n",
    "sns.histplot(log_income, bins=50, kde=True)\n",
    "plt.xlabel(\"Log(Income)\")\n",
    "plt.title(\"Log-Transformed Distribution\")\n",
    "plt.show()\n"
   ]
  },
  {
   "cell_type": "code",
   "execution_count": null,
   "id": "ce895205-7509-4f70-ba41-7845c35f83ae",
   "metadata": {},
   "outputs": [],
   "source": []
  }
 ],
 "metadata": {
  "kernelspec": {
   "display_name": "Python 3 (ipykernel)",
   "language": "python",
   "name": "python3"
  },
  "language_info": {
   "codemirror_mode": {
    "name": "ipython",
    "version": 3
   },
   "file_extension": ".py",
   "mimetype": "text/x-python",
   "name": "python",
   "nbconvert_exporter": "python",
   "pygments_lexer": "ipython3",
   "version": "3.9.7"
  }
 },
 "nbformat": 4,
 "nbformat_minor": 5
}
