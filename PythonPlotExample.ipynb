{
 "cells": [
  {
   "cell_type": "markdown",
   "metadata": {},
   "source": [
    "# 第一步：读取数据"
   ]
  },
  {
   "cell_type": "code",
   "execution_count": null,
   "metadata": {},
   "outputs": [],
   "source": [
    "import pandas as pd\n",
    "import matplotlib.pyplot as plt\n",
    "# 引入seaborn库，为了画相关结果的热力图\n",
    "import seaborn as sns"
   ]
  },
  {
   "cell_type": "code",
   "execution_count": null,
   "metadata": {},
   "outputs": [],
   "source": [
    "data = pd.read_csv(\"StudentsPerformance.csv\")\n",
    "#data.dtypes\n",
    "print(data.describe())   #查看数据统计信息"
   ]
  },
  {
   "cell_type": "code",
   "execution_count": null,
   "metadata": {},
   "outputs": [],
   "source": [
    "df = pd.DataFrame(data)   # The pandas object holding the data.\n",
    "df.head()"
   ]
  },
  {
   "cell_type": "code",
   "execution_count": null,
   "metadata": {},
   "outputs": [],
   "source": [
    "#统计分类数据详情\n",
    "print(\"有多少个种族：\")\n",
    "print(df['race/ethnicity'].nunique())\n",
    "#gender,race/ethnicity,parental level of education,lunch,test preparation course\n",
    "print(\"有多少个性别：\")\n",
    "print(df['gender'].nunique())\n",
    "print(\"有多少种受教育背景：\")\n",
    "print(df['parental level of education'].nunique())\n",
    "print(\"午餐消费习惯种类：\")\n",
    "print(df['lunch'].nunique())\n",
    "print(\"课程准备情况：\")\n",
    "print(df['test preparation course'].nunique())"
   ]
  },
  {
   "cell_type": "markdown",
   "metadata": {},
   "source": [
    "# 第二步 观察数据规律：\n",
    "\n",
    "# 2.1 直方图"
   ]
  },
  {
   "cell_type": "code",
   "execution_count": null,
   "metadata": {},
   "outputs": [],
   "source": [
    "df['math score'].hist(bins=10,color=\"steelblue\")\n",
    "plt.ylabel(\"number of students\")\n",
    "plt.xlabel(\"score\")\n",
    "plt.title(\"math score distributed\")\n",
    "plt.show()"
   ]
  },
  {
   "cell_type": "code",
   "execution_count": null,
   "metadata": {},
   "outputs": [],
   "source": [
    "df['math score'].hist(label='math core',bins=10)\n",
    "df['reading score'].hist(label='reading core',bins=10)\n",
    "df['writing score'].hist(color='orange',label='writing core',bins=10)\n",
    "plt.legend(loc=\"upper left\")\n",
    "plt.show()"
   ]
  },
  {
   "cell_type": "markdown",
   "metadata": {},
   "source": [
    "作业1：完成写作和阅读成绩100个切片的直方图"
   ]
  },
  {
   "cell_type": "code",
   "execution_count": null,
   "metadata": {},
   "outputs": [],
   "source": [
    "# 例子：数学成绩100切片直方图程序：\n",
    "df['math score'].hist(bins=100)\n",
    "plt.title('math score')\n",
    "plt.show()"
   ]
  },
  {
   "cell_type": "code",
   "execution_count": null,
   "metadata": {},
   "outputs": [],
   "source": [
    "#水平直方图\n",
    "df['math score'].plot.hist(orientation='horizontal')\n",
    "plt.show()"
   ]
  },
  {
   "cell_type": "markdown",
   "metadata": {},
   "source": [
    "# 2.2 散点图"
   ]
  },
  {
   "cell_type": "code",
   "execution_count": null,
   "metadata": {},
   "outputs": [],
   "source": [
    "x=df['math score']\n",
    "y1=df['test preparation course']\n",
    "y2=df['race/ethnicity']\n",
    "y3=df['gender']\n",
    "y4=df['parental level of education']\n",
    "y5=df['lunch']\n",
    "plt.scatter(x, y1, color=\"steelblue\",alpha=0.6)  # 绘制散点图，透明度为0.6（这样颜色浅一点，比较好看）\n",
    "plt.scatter(x, y2, color=\"red\",alpha=0.6)\n",
    "plt.scatter(x, y3, alpha=0.6)\n",
    "plt.scatter(x,y4)\n",
    "plt.scatter(x,y5)\n",
    "plt.title('Math score scatter')\n",
    "plt.show()"
   ]
  },
  {
   "cell_type": "code",
   "execution_count": null,
   "metadata": {},
   "outputs": [],
   "source": [
    "# 散点图：各科成绩之间的相关性\n",
    "math_score=df['math score']\n",
    "reading_score=df['reading score']\n",
    "writing_score=df['writing score']\n",
    "\n",
    "plt.scatter( math_score,reading_score,alpha=0.6)\n",
    "plt.title('Math score with reading score')\n",
    "plt.xlabel('math score')\n",
    "plt.ylabel('reading score')\n",
    "plt.show()\n",
    "\n",
    "plt.scatter( math_score,writing_score,alpha=0.6)\n",
    "plt.title('Math score with writing score')\n",
    "plt.xlabel('math score')\n",
    "plt.ylabel('writing score')\n",
    "plt.show()\n"
   ]
  },
  {
   "cell_type": "markdown",
   "metadata": {},
   "source": [
    "作业：补充阅读成绩和写作成绩之间的散点图"
   ]
  },
  {
   "cell_type": "code",
   "execution_count": null,
   "metadata": {},
   "outputs": [],
   "source": [
    "data = pd.read_csv(\"StudentsPerformance.csv\")\n",
    "df = pd.DataFrame(data)   # The pandas object holding the data.\n",
    "\n",
    "#提取math score；reading score；writing score \n",
    "score_data=pd.DataFrame({'math_score':df['math score'],'reading_score':df['reading score'],'writing_score':df['writing score']})\n",
    "dcorr=score_data.corr()\n",
    "display(dcorr) # 表格形式显示数据"
   ]
  },
  {
   "cell_type": "code",
   "execution_count": null,
   "metadata": {},
   "outputs": [],
   "source": [
    "#画热力图（相关系数）\n",
    "plt.figure(figsize=(4,3),dpi=80)  # dpi调整图像大小\n",
    "sns.heatmap(data=dcorr,vmax=1,vmin=0.7,cmap=\"OrRd\") #vmax,vmin 是色柱最大值; cmap调整颜色"
   ]
  },
  {
   "cell_type": "code",
   "execution_count": null,
   "metadata": {},
   "outputs": [],
   "source": []
  }
 ],
 "metadata": {
  "kernelspec": {
   "display_name": "Python 3",
   "language": "python",
   "name": "python3"
  },
  "language_info": {
   "codemirror_mode": {
    "name": "ipython",
    "version": 3
   },
   "file_extension": ".py",
   "mimetype": "text/x-python",
   "name": "python",
   "nbconvert_exporter": "python",
   "pygments_lexer": "ipython3",
   "version": "3.8.5"
  }
 },
 "nbformat": 4,
 "nbformat_minor": 4
}
