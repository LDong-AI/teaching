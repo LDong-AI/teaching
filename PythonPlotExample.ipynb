{
 "cells": [
  {
   "cell_type": "markdown",
   "metadata": {},
   "source": [
    "# 第一步：读取数据"
   ]
  },
  {
   "cell_type": "code",
   "execution_count": null,
   "metadata": {},
   "outputs": [],
   "source": [
    "import pandas as pd\n",
    "import numpy as np\n",
    "import matplotlib.pyplot as plt\n",
    "# 引入seaborn库，为了画相关结果的热力图\n",
    "import seaborn as sns"
   ]
  },
  {
   "cell_type": "code",
   "execution_count": null,
   "metadata": {},
   "outputs": [],
   "source": [
    "data = pd.read_csv(\"StudentsPerformance.csv\")\n",
    "#data.dtypes\n",
    "print(data.describe())   #查看数据统计信息"
   ]
  },
  {
   "cell_type": "code",
   "execution_count": null,
   "metadata": {},
   "outputs": [],
   "source": [
    "df = pd.DataFrame(data)   # The pandas object holding the data.\n",
    "df.head()"
   ]
  },
  {
   "cell_type": "code",
   "execution_count": null,
   "metadata": {},
   "outputs": [],
   "source": [
    "#统计分类数据详情\n",
    "print(\"有多少个种族：\")\n",
    "print(df['race/ethnicity'].nunique())\n",
    "#gender,race/ethnicity,parental level of education,lunch,test preparation course\n",
    "print(\"有多少个性别：\")\n",
    "print(df['gender'].nunique())\n",
    "print(\"有多少种受教育背景：\")\n",
    "print(df['parental level of education'].nunique())\n",
    "print(\"午餐消费习惯种类：\")\n",
    "print(df['lunch'].nunique())\n",
    "print(\"课程准备情况：\")\n",
    "print(df['test preparation course'].nunique())"
   ]
  },
  {
   "cell_type": "markdown",
   "metadata": {},
   "source": [
    "# 基本画图语句练习"
   ]
  },
  {
   "cell_type": "code",
   "execution_count": null,
   "metadata": {},
   "outputs": [],
   "source": [
    "# 空白图纸，注意参数\n",
    "fig = plt.figure()\n",
    "ax = fig.add_subplot(111)\n",
    "ax.set(xlim=[0.5, 4.5], ylim=[-2, 8], title='An Example Axes',   ylabel='Y-Axis', xlabel='X-Axis')\n",
    "plt.show()"
   ]
  },
  {
   "cell_type": "code",
   "execution_count": null,
   "metadata": {},
   "outputs": [],
   "source": [
    "# 画多张子图\n",
    "fig, axes = plt.subplots(nrows=2, ncols=2)\n",
    "axes[0,0].set(title='Upper Left')\n",
    "axes[0,1].set(title='Upper Right')\n",
    "axes[1,0].set(title='Lower Left')\n",
    "axes[1,1].set(title='Lower Right')"
   ]
  },
  {
   "cell_type": "markdown",
   "metadata": {},
   "source": [
    "# 第二步 观察数据规律：\n",
    "\n",
    "# 2.1 直方图"
   ]
  },
  {
   "cell_type": "code",
   "execution_count": null,
   "metadata": {},
   "outputs": [],
   "source": [
    "df['math score'].hist(bins=10,color=\"steelblue\")\n",
    "plt.ylabel(\"number of students\")\n",
    "plt.xlabel(\"score\")\n",
    "plt.title(\"math score distributed\")\n",
    "plt.show()"
   ]
  },
  {
   "cell_type": "code",
   "execution_count": null,
   "metadata": {},
   "outputs": [],
   "source": [
    "# 多图叠加结果\n",
    "df['math score'].hist(label='math core',bins=10)\n",
    "df['reading score'].hist(label='reading core',bins=10)\n",
    "df['writing score'].hist(color='orange',label='writing core',bins=10)\n",
    "plt.legend(loc=\"upper left\")\n",
    "plt.show()"
   ]
  },
  {
   "cell_type": "markdown",
   "metadata": {},
   "source": [
    "写作和阅读成绩100份切片的直方图结果"
   ]
  },
  {
   "cell_type": "code",
   "execution_count": null,
   "metadata": {},
   "outputs": [],
   "source": [
    "# bin max value =100 ; 查看所有成绩分布的细节\n",
    "# alpha 代表重叠的透明度，如果是 0.9，表示 90% 的颜色为 'b'\n",
    "# bins 代表一组数据有多少根柱子，即把数据分成多少份\n",
    "\n",
    "df['math score'].hist(bins=100)\n",
    "plt.title('math score')\n",
    "plt.show()\n",
    "df['writing score'].hist(bins=100)\n",
    "plt.title('writing score')\n",
    "plt.show()\n",
    "df['reading score'].hist(bins=100)\n",
    "plt.title('reading score')\n",
    "plt.show()"
   ]
  },
  {
   "cell_type": "code",
   "execution_count": null,
   "metadata": {},
   "outputs": [],
   "source": [
    "#水平直方图\n",
    "df['math score'].plot.hist(orientation='horizontal')\n",
    "plt.show()"
   ]
  },
  {
   "cell_type": "markdown",
   "metadata": {},
   "source": [
    "# 2.2 散点图"
   ]
  },
  {
   "cell_type": "code",
   "execution_count": null,
   "metadata": {},
   "outputs": [],
   "source": [
    "x=df['math score']\n",
    "y1=df['test preparation course']\n",
    "y2=df['race/ethnicity']\n",
    "y3=df['gender']\n",
    "y4=df['parental level of education']\n",
    "y5=df['lunch']\n",
    "plt.scatter(x, y1, color=\"steelblue\",alpha=0.6)  # 绘制散点图，透明度为0.6（这样颜色浅一点，比较好看）\n",
    "plt.scatter(x, y2, color=\"red\",alpha=0.6)\n",
    "plt.scatter(x, y3, alpha=0.6)\n",
    "plt.scatter(x,y4)\n",
    "plt.scatter(x,y5)\n",
    "plt.title('Math score scatter')\n",
    "plt.show()"
   ]
  },
  {
   "cell_type": "code",
   "execution_count": null,
   "metadata": {},
   "outputs": [],
   "source": [
    "# 散点图：各科成绩之间的相关性\n",
    "math_score=df['math score']\n",
    "reading_score=df['reading score']\n",
    "writing_score=df['writing score']\n",
    "\n",
    "plt.scatter( math_score,reading_score,alpha=0.6)\n",
    "plt.title('Math score with reading score')\n",
    "plt.xlabel('math score')\n",
    "plt.ylabel('reading score')\n",
    "plt.show()\n",
    "\n",
    "plt.scatter( math_score,writing_score,alpha=0.6)\n",
    "plt.title('Math score with writing score')\n",
    "plt.xlabel('math score')\n",
    "plt.ylabel('writing score')\n",
    "plt.show()\n"
   ]
  },
  {
   "cell_type": "markdown",
   "metadata": {},
   "source": [
    "作业：根据上面的例子，补充阅读成绩和写作成绩之间的散点图"
   ]
  },
  {
   "cell_type": "code",
   "execution_count": null,
   "metadata": {},
   "outputs": [],
   "source": [
    "data = pd.read_csv(\"StudentsPerformance.csv\")\n",
    "df = pd.DataFrame(data)   # The pandas object holding the data.\n",
    "\n",
    "#提取math score；reading score；writing score \n",
    "score_data=pd.DataFrame({'math_score':df['math score'],'reading_score':df['reading score'],'writing_score':df['writing score']})\n",
    "dcorr=score_data.corr()\n",
    "display(dcorr) # 表格形式显示数据"
   ]
  },
  {
   "cell_type": "code",
   "execution_count": null,
   "metadata": {},
   "outputs": [],
   "source": [
    "#画热力图（相关系数）\n",
    "plt.figure(figsize=(4,3),dpi=80)  # dpi调整图像大小\n",
    "sns.heatmap(data=dcorr,vmax=1,vmin=0.7,cmap=\"OrRd\") #vmax,vmin 是色柱最大值; cmap调整颜色"
   ]
  },
  {
   "cell_type": "markdown",
   "metadata": {},
   "source": [
    "# 2.3 一元回归结果分析，报告中要解释参数的意义。"
   ]
  },
  {
   "cell_type": "code",
   "execution_count": null,
   "metadata": {},
   "outputs": [],
   "source": [
    "\n",
    "import statsmodels.api as sm\n",
    "# 小写的 ols 函数才会自带截距项，OLS 则不会。\n",
    "#先通过 sm.add_constant() 向矩阵 X 添加截距列后，再用 sm.OLS() 建立普通#最小二乘模型，最后用 model.fit() 就能实现线性回归模型的拟合，并返拟合与统计分析的结果摘要。\n",
    "data = pd.read_csv(\"StudentsPerformance.csv\")\n",
    "df = pd.DataFrame(data)   # The pandas object holding the data.\n",
    "x1=df['writing score']\n",
    "X = sm.add_constant(x1) \n",
    "model=sm.OLS(df['reading score'],X)\n",
    "results = model.fit()\n",
    "print(results.summary()) \n"
   ]
  },
  {
   "cell_type": "code",
   "execution_count": null,
   "metadata": {
    "scrolled": true
   },
   "outputs": [],
   "source": [
    "print(\"OLS model: Y = b0 + b1 * x\") # b0: 回归直线的截距，b1: 回归直线的斜率\n",
    "print('Parameters: ', results.params) # 输出：拟合模型的系数\n",
    "yFit = results.fittedvalues # 拟合模型计算出的 y值\n",
    "fig = plt.figure(figsize=(10, 8))\n",
    "ax = fig.subplots()\n",
    "ax.plot(x1, df['reading score'], 'o', label=\"data\") # 原始数据\n",
    "ax.plot(x1, yFit, 'r-', label=\"OLS\") # 拟合数据\n",
    "ax.set(title='Writing fitting with reading',ylabel='reading score',xlabel='writing score')"
   ]
  },
  {
   "cell_type": "markdown",
   "metadata": {},
   "source": [
    "# 解释下面图所表示的信息。"
   ]
  },
  {
   "cell_type": "code",
   "execution_count": null,
   "metadata": {},
   "outputs": [],
   "source": [
    "sns.lmplot(x=\"math score\",y=\"reading score\",\n",
    "           data=df ,row=\"race/ethnicity\",col=\"gender\"\n",
    "           )"
   ]
  },
  {
   "cell_type": "markdown",
   "metadata": {},
   "source": [
    "# 2.4 结合箱线图，说明不同种族学生成绩分布情况。"
   ]
  },
  {
   "cell_type": "code",
   "execution_count": null,
   "metadata": {},
   "outputs": [],
   "source": [
    "plt.figure(dpi=100)\n",
    "sns.boxplot(x='race/ethnicity',\n",
    "            y='math score',\n",
    "            data=df,#data的作用就是x，y每次不需要输入pd_iris\n",
    "            orient='v'\n",
    "           )\n",
    "plt.show()\n",
    "\n",
    "plt.figure(dpi=100)\n",
    "sns.boxplot(x='race/ethnicity',\n",
    "            y='reading score',\n",
    "            data=df,#data的作用就是x，y每次不需要输入pd_iris\n",
    "            orient='v'\n",
    "           )\n",
    "plt.show()\n",
    "\n",
    "plt.figure(dpi=100)\n",
    "sns.boxplot(x='race/ethnicity',\n",
    "            y='writing score',\n",
    "            data=df,#data的作用就是x，y每次不需要输入pd_iris\n",
    "            orient='v'\n",
    "           )\n",
    "plt.show()"
   ]
  },
  {
   "cell_type": "markdown",
   "metadata": {},
   "source": [
    "# 2.5 结合箱线图，分析家长教育背景不同对学生成绩的影响。"
   ]
  },
  {
   "cell_type": "code",
   "execution_count": null,
   "metadata": {},
   "outputs": [],
   "source": [
    "plt.figure(dpi=150)\n",
    "plt.xticks(fontsize=6)\n",
    "sns.boxplot(x='parental level of education',\n",
    "            y='math score',\n",
    "            data=df,#data的作用就是x，y每次不需要输入pd_iris\n",
    "            orient='v'\n",
    "           )\n",
    "plt.show()\n",
    "\n",
    "plt.figure(dpi=150)\n",
    "plt.xticks(fontsize=6)\n",
    "sns.boxplot(x='parental level of education',\n",
    "            y='reading score',\n",
    "            data=df,#data的作用就是x，y每次不需要输入pd_iris\n",
    "            orient='v'\n",
    "           )\n",
    "plt.show()\n",
    "\n",
    "plt.figure(dpi=150)\n",
    "plt.xticks(fontsize=6)\n",
    "sns.boxplot(x='parental level of education',\n",
    "            y='writing score',\n",
    "            data=df,#data的作用就是x，y每次不需要输入pd_iris\n",
    "            orient='v'\n",
    "           )\n",
    "plt.show()"
   ]
  },
  {
   "cell_type": "code",
   "execution_count": null,
   "metadata": {},
   "outputs": [],
   "source": []
  }
 ],
 "metadata": {
  "kernelspec": {
   "display_name": "Python 3",
   "language": "python",
   "name": "python3"
  },
  "language_info": {
   "codemirror_mode": {
    "name": "ipython",
    "version": 3
   },
   "file_extension": ".py",
   "mimetype": "text/x-python",
   "name": "python",
   "nbconvert_exporter": "python",
   "pygments_lexer": "ipython3",
   "version": "3.8.5"
  }
 },
 "nbformat": 4,
 "nbformat_minor": 4
}
