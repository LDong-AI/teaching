{
 "cells": [
  {
   "cell_type": "markdown",
   "metadata": {},
   "source": [
    "# MATLAB 画图练习 例1 一元线性回归(科技论文写作，2021/04/11)\n",
    "\n",
    "1.加载数据（横轴，熵的结果。纵轴，GLM contrast结果（data source: working memory, cope1））"
   ]
  },
  {
   "cell_type": "code",
   "execution_count": 1,
   "metadata": {},
   "outputs": [],
   "source": [
    "load('saved_max_ben_result_cope1.mat')\n",
    "load('saved_max_cope_result_cope1.mat')"
   ]
  },
  {
   "cell_type": "markdown",
   "metadata": {},
   "source": [
    "分析过程：第一步，画散点图，观察数据规律\n",
    "---"
   ]
  },
  {
   "cell_type": "code",
   "execution_count": null,
   "metadata": {},
   "outputs": [],
   "source": [
    "x=saved_max_ben_result_cope1;\n",
    "y=saved_max_cope_result_cope1;\n",
    "scatter(x,y)"
   ]
  },
  {
   "cell_type": "markdown",
   "metadata": {},
   "source": [
    "第二步：最小二乘法拟合\n",
    "---\n",
    "\n",
    "公式：w=(x'x)^(-1)*x'y\n",
    "\n",
    "Linear model Poly1:(最小二乘法,基于梯度下降的回归分析)\n",
    "\n",
    "     f(x) = p1*x + p2\n",
    "     \n",
    "Coefficients (with 95% confidence bounds):\n",
    "\n",
    "       p1 =     0.04752  (0.03142, 0.06362)\n",
    "       p2 =      -65.46  (-83.09, -47.83)"
   ]
  },
  {
   "cell_type": "code",
   "execution_count": null,
   "metadata": {},
   "outputs": [],
   "source": [
    "m=ones(862,2);\n",
    "m(:,2)=saved_max_ben_result_cope1;\n",
    "n=saved_max_cope_result_cope1;\n",
    "w=inv((m'*m))*m'*n"
   ]
  },
  {
   "cell_type": "markdown",
   "metadata": {},
   "source": [
    "多个结果叠加到一副图像上的方法：\n",
    "\n",
    "hold on; hold off\n",
    "\n",
    "例子1：叠加一条直线：\n",
    "\n",
    "k=[600:2:1200];\n",
    "\n",
    "z=0.1*k-100;\n",
    "\n",
    "plot(k,z)"
   ]
  },
  {
   "cell_type": "code",
   "execution_count": null,
   "metadata": {},
   "outputs": [],
   "source": [
    "scatter(x,y)\n",
    "hold on;\n",
    "y_fit=w(1)+w(2)*x; \n",
    "plot(x,y_fit);\n",
    "hold off;"
   ]
  },
  {
   "cell_type": "markdown",
   "metadata": {},
   "source": [
    "例2：调整线的粗细，颜色，点的大小。并增加标题，x轴名称，y轴名称。\n",
    "\n",
    "plot(x,y_co,'r','LineWidth',10);"
   ]
  },
  {
   "cell_type": "code",
   "execution_count": null,
   "metadata": {},
   "outputs": [],
   "source": [
    "plot(x,y,'.','MarkerSize',10);\n",
    "title('(a) Ben and active result in positive correlation position');\n",
    "xlabel('Ben value');\n",
    "ylabel('Task activation intensive');\n",
    "\n",
    "hold on;\n",
    "n=w(1)+w(2)*m; \n",
    "\n",
    "plot(x,y_fit,'r','LineWidth',10);\n",
    "hold off;\n",
    "\n",
    "legend('max correlation position','predict','Location','northwest');"
   ]
  },
  {
   "cell_type": "markdown",
   "metadata": {},
   "source": [
    "# 例2 实验结果对比图"
   ]
  },
  {
   "cell_type": "code",
   "execution_count": null,
   "metadata": {},
   "outputs": [],
   "source": [
    "x = 0:pi/10:2*pi;\n",
    "y1 = sin(x);\n",
    "y2 = sin(x-0.25);\n",
    "y3 = sin(x-0.5);\n",
    "\n",
    "figure\n",
    "plot(x,y1,'r',x,y2,'b-o',x,y3,'c*')"
   ]
  },
  {
   "cell_type": "code",
   "execution_count": null,
   "metadata": {},
   "outputs": [],
   "source": [
    "AODV_TRAD=[45,50,50.5,48,53,54,52,52.5,52.1];\n",
    "OLSR_NSSAJ=[11,15,18,18.2,18.5,19,20,21.5,21];\n",
    "AODV_NASSAJ=[25,33,35,37,39,41,45,46.5,45];\n",
    "speed=[0:5:40];\n",
    "plot(speed,AODV_TRAD,'-o',speed,OLSR_NSSAJ,'-o',speed,AODV_NASSAJ,'-o')\n",
    "legend('AODV_TRAD','OLSR_NSSAJ','AODV_NASSAJ','Location','southeast')\n",
    "legend('boxoff')"
   ]
  },
  {
   "cell_type": "code",
   "execution_count": null,
   "metadata": {},
   "outputs": [],
   "source": [
    "AODV_TRAD=[45,50,50.5,48,53,54,52,52.5,52.1];\n",
    "OLSR_NSSAJ=[11,15,18,18.2,18.5,19,20,21.5,21];\n",
    "AODV_NASSAJ=[25,33,35,37,39,41,45,46.5,45];\n",
    "speed=[0:5:40];\n",
    "plot(speed,AODV_TRAD,'-o',speed,OLSR_NSSAJ,'-o',speed,AODV_NASSAJ,'-o')\n",
    "legend('AODV_TRAD','OLSR_NSSAJ','AODV_NASSAJ','Location','northeastoutside')\n",
    "legend('boxoff')"
   ]
  },
  {
   "cell_type": "code",
   "execution_count": null,
   "metadata": {},
   "outputs": [],
   "source": [
    "AODV_TRAD=[45,50,50.5,48,53,54,52,52.5,52.1];\n",
    "OLSR_NSSAJ=[11,15,18,18.2,18.5,19,20,21.5,21];\n",
    "AODV_NASSAJ=[25,33,35,37,39,41,45,46.5,45];\n",
    "speed=[0:5:40];\n",
    "figure(3)          % define figure\n",
    "subplot(2,2,1); \n",
    "bar(speed,AODV_TRAD,'b')\n",
    "subplot(2,2,2); \n",
    "bar(speed,OLSR_NSSAJ,'b')\n",
    "subplot(2,2,3); \n",
    "bar(speed,AODV_NASSAJ,'b')"
   ]
  },
  {
   "cell_type": "markdown",
   "metadata": {},
   "source": [
    "例3 数据统计分析：直方图，标准差；箱线图。\n",
    "--"
   ]
  },
  {
   "cell_type": "code",
   "execution_count": null,
   "metadata": {},
   "outputs": [],
   "source": [
    "x = 1:10:100;\n",
    "y = [20 30 45 40 60 65 80 75 95 90]; \n",
    "err = [5 8 2 9 3 3 8 3 9 3];\n",
    "errorbar(x,y,err)"
   ]
  },
  {
   "cell_type": "code",
   "execution_count": null,
   "metadata": {},
   "outputs": [],
   "source": [
    "mean_AODV_TRAD=mean(AODV_TRAD);\n",
    "err_AODV_TRAD=std(AODV_TRAD);\n",
    "x=[1:3];\n",
    "bar(1,mean_AODV_TRAD,'b')\n",
    "hold on\n",
    "errorbar(1,mean_AODV_TRAD,err_AODV_TRAD)"
   ]
  },
  {
   "cell_type": "markdown",
   "metadata": {},
   "source": [
    "mean_AODV_TRAD=mean(AODV_TRAD);\n",
    "mean_OLSR_NSSAJ=mean(OLSR_NSSAJ);\n",
    "mean_AODV_NASSAJ=mean(AODV_NASSAJ);\n",
    "\n",
    "err_AODV_TRAD=std(AODV_TRAD);\n",
    "err_OLSR_NSSAJ=std(OLSR_NSSAJ);\n",
    "err_AODV_NASSAJ=std(AODV_NASSAJ);\n",
    "\n",
    "x=[1:1:3];\n",
    "y=[mean_AODV_TRAD,mean_OLSR_NSSAJ,mean_AODV_NASSAJ];\n",
    "\n",
    "bar(x,y,'b')\n",
    "hold on\n",
    "errorbar(1,mean_AODV_TRAD,err_AODV_TRAD)\n",
    "errorbar(2,mean_OLSR_NSSAJ,err_OLSR_NSSAJ)\n",
    "errorbar(3,mean_AODV_NASSAJ,err_AODV_NASSAJ)"
   ]
  },
  {
   "cell_type": "code",
   "execution_count": null,
   "metadata": {},
   "outputs": [],
   "source": []
  }
 ],
 "metadata": {
  "kernelspec": {
   "display_name": "Octave",
   "language": "octave",
   "name": "octave"
  },
  "language_info": {
   "file_extension": ".m",
   "help_links": [
    {
     "text": "GNU Octave",
     "url": "https://www.gnu.org/software/octave/support.html"
    },
    {
     "text": "Octave Kernel",
     "url": "https://github.com/Calysto/octave_kernel"
    },
    {
     "text": "MetaKernel Magics",
     "url": "https://metakernel.readthedocs.io/en/latest/source/README.html"
    }
   ],
   "mimetype": "text/x-octave",
   "name": "octave",
   "version": "4.2.2"
  }
 },
 "nbformat": 4,
 "nbformat_minor": 4
}
